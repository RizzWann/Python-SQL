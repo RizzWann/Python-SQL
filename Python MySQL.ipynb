{
 "cells": [
  {
   "cell_type": "code",
   "execution_count": null,
   "id": "5e8e9459",
   "metadata": {},
   "outputs": [],
   "source": [
    "#!pip install MySQL-python"
   ]
  },
  {
   "cell_type": "code",
   "execution_count": 2,
   "id": "3a250fef",
   "metadata": {},
   "outputs": [],
   "source": [
    "import mysql.connector as sql"
   ]
  },
  {
   "cell_type": "code",
   "execution_count": 4,
   "id": "afb05832",
   "metadata": {},
   "outputs": [],
   "source": [
    "mydb = sql.connect(\n",
    "  host=\"127.0.0.1\",\n",
    "  user=\"root\",\n",
    "  password=\"admin\",\n",
    "  database = \"sales\"  \n",
    ")"
   ]
  },
  {
   "cell_type": "code",
   "execution_count": 5,
   "id": "b3d72d3c",
   "metadata": {},
   "outputs": [],
   "source": [
    "cursor = mydb.cursor()\n",
    "cursor.execute(\"Select * from Customers\")"
   ]
  },
  {
   "cell_type": "code",
   "execution_count": 6,
   "id": "61f02c62",
   "metadata": {},
   "outputs": [
    {
     "name": "stdout",
     "output_type": "stream",
     "text": [
      "('Cus001', 'Surge Stores', 'Brick & Mortar')\n",
      "('Cus002', 'Nomad Stores', 'Brick & Mortar')\n",
      "('Cus003', 'Excel Stores', 'Brick & Mortar')\n",
      "('Cus004', 'Surface Stores', 'Brick & Mortar')\n",
      "('Cus005', 'Premium Stores', 'Brick & Mortar')\n",
      "('Cus006', 'Electricalsara Stores', 'Brick & Mortar')\n",
      "('Cus007', 'Info Stores', 'Brick & Mortar')\n",
      "('Cus008', 'Acclaimed Stores', 'Brick & Mortar')\n",
      "('Cus009', 'Electricalsquipo Stores', 'Brick & Mortar')\n",
      "('Cus010', 'Atlas Stores', 'Brick & Mortar')\n",
      "('Cus011', 'Flawless Stores', 'Brick & Mortar')\n",
      "('Cus012', 'Integration Stores', 'Brick & Mortar')\n",
      "('Cus013', 'Unity Stores', 'Brick & Mortar')\n",
      "('Cus014', 'Forward Stores', 'Brick & Mortar')\n",
      "('Cus015', 'Electricalsbea Stores', 'Brick & Mortar')\n",
      "('Cus016', 'Logic Stores', 'Brick & Mortar')\n",
      "('Cus017', 'Epic Stores', 'Brick & Mortar')\n",
      "('Cus018', 'Electricalslance Stores', 'Brick & Mortar')\n",
      "('Cus019', 'Electricalsopedia Stores', 'Brick & Mortar')\n",
      "('Cus020', 'Nixon', 'E-Commerce')\n",
      "('Cus021', 'Modular', 'E-Commerce')\n",
      "('Cus022', 'Electricalslytical', 'E-Commerce')\n",
      "('Cus023', 'Sound', 'E-Commerce')\n",
      "('Cus024', 'Power', 'E-Commerce')\n",
      "('Cus025', 'Path', 'E-Commerce')\n",
      "('Cus026', 'Insight', 'E-Commerce')\n",
      "('Cus027', 'Control', 'E-Commerce')\n",
      "('Cus028', 'Sage', 'E-Commerce')\n",
      "('Cus029', 'Electricalsocity', 'E-Commerce')\n",
      "('Cus030', 'Synthetic', 'E-Commerce')\n",
      "('Cus031', 'Zone', 'E-Commerce')\n",
      "('Cus032', 'Elite', 'E-Commerce')\n",
      "('Cus033', 'All-Out', 'E-Commerce')\n",
      "('Cus034', 'Expression', 'E-Commerce')\n",
      "('Cus035', 'Relief', 'E-Commerce')\n",
      "('Cus036', 'Novus', 'E-Commerce')\n",
      "('Cus037', 'Propel', 'E-Commerce')\n",
      "('Cus038', 'Leader', 'E-Commerce')\n"
     ]
    }
   ],
   "source": [
    "for row in cursor.fetchall():\n",
    "    print(row)"
   ]
  },
  {
   "cell_type": "code",
   "execution_count": null,
   "id": "b8236f58",
   "metadata": {},
   "outputs": [],
   "source": []
  }
 ],
 "metadata": {
  "kernelspec": {
   "display_name": "Python 3 (ipykernel)",
   "language": "python",
   "name": "python3"
  },
  "language_info": {
   "codemirror_mode": {
    "name": "ipython",
    "version": 3
   },
   "file_extension": ".py",
   "mimetype": "text/x-python",
   "name": "python",
   "nbconvert_exporter": "python",
   "pygments_lexer": "ipython3",
   "version": "3.9.7"
  },
  "varInspector": {
   "cols": {
    "lenName": 16,
    "lenType": 16,
    "lenVar": 40
   },
   "kernels_config": {
    "python": {
     "delete_cmd_postfix": "",
     "delete_cmd_prefix": "del ",
     "library": "var_list.py",
     "varRefreshCmd": "print(var_dic_list())"
    },
    "r": {
     "delete_cmd_postfix": ") ",
     "delete_cmd_prefix": "rm(",
     "library": "var_list.r",
     "varRefreshCmd": "cat(var_dic_list()) "
    }
   },
   "types_to_exclude": [
    "module",
    "function",
    "builtin_function_or_method",
    "instance",
    "_Feature"
   ],
   "window_display": false
  }
 },
 "nbformat": 4,
 "nbformat_minor": 5
}
